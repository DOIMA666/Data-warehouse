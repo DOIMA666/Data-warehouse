{
 "cells": [
  {
   "cell_type": "code",
   "execution_count": null,
   "metadata": {},
   "outputs": [],
   "source": [
    "import pandas as pd\n",
    "import requests\n",
    "from time import sleep\n",
    "import xlrd\n",
    "from xlutils.copy import copy"
   ]
  },
  {
   "cell_type": "code",
   "execution_count": 2,
   "metadata": {},
   "outputs": [],
   "source": [
    "file_path = 'C:/Kho_du_lieu/Cuoiki/IS217P11_22520428_22520874/Dataset/Cyber_Security_Attacks_Original.csv'\n",
    "df = pd.read_csv(file_path)"
   ]
  },
  {
   "cell_type": "code",
   "execution_count": 3,
   "metadata": {},
   "outputs": [
    {
     "data": {
      "text/plain": [
       "0           150.9.97.135\n",
       "1            No detected\n",
       "2         114.133.48.179\n",
       "3            No detected\n",
       "4          149.6.110.119\n",
       "              ...       \n",
       "39995        No detected\n",
       "39996        60.51.30.46\n",
       "39997        No detected\n",
       "39998       137.76.130.8\n",
       "39999    112.169.115.139\n",
       "Name: Proxy Information, Length: 40000, dtype: object"
      ]
     },
     "execution_count": 3,
     "metadata": {},
     "output_type": "execute_result"
    }
   ],
   "source": [
    "df['IDS/IPS Alerts'] = df['IDS/IPS Alerts'].fillna('No data')\n",
    "df['Firewall Logs'] = df['Firewall Logs'].fillna('No records')\n",
    "df['Malware Indicators'].fillna('No detected')\n",
    "df['Proxy Information'].fillna('No detected')"
   ]
  },
  {
   "cell_type": "code",
   "execution_count": 1,
   "metadata": {},
   "outputs": [
    {
     "ename": "NameError",
     "evalue": "name 'df' is not defined",
     "output_type": "error",
     "traceback": [
      "\u001b[1;31m---------------------------------------------------------------------------\u001b[0m",
      "\u001b[1;31mNameError\u001b[0m                                 Traceback (most recent call last)",
      "Cell \u001b[1;32mIn[1], line 21\u001b[0m\n\u001b[0;32m     18\u001b[0m         sleep(\u001b[38;5;241m0.1\u001b[39m)\n\u001b[0;32m     20\u001b[0m \u001b[38;5;66;03m# Kiểm tra xem cột 'Source IP Address' có tồn tại không\u001b[39;00m\n\u001b[1;32m---> 21\u001b[0m \u001b[38;5;28;01mif\u001b[39;00m \u001b[38;5;124m'\u001b[39m\u001b[38;5;124mSource IP Address\u001b[39m\u001b[38;5;124m'\u001b[39m \u001b[38;5;129;01min\u001b[39;00m \u001b[43mdf\u001b[49m\u001b[38;5;241m.\u001b[39mcolumns:\n\u001b[0;32m     22\u001b[0m     \u001b[38;5;66;03m# Tạo một cột mới 'Source Address' và thêm thông tin vị trí dựa trên IP\u001b[39;00m\n\u001b[0;32m     23\u001b[0m     df[\u001b[38;5;124m'\u001b[39m\u001b[38;5;124mSource Address\u001b[39m\u001b[38;5;124m'\u001b[39m] \u001b[38;5;241m=\u001b[39m df[\u001b[38;5;124m'\u001b[39m\u001b[38;5;124mSource IP Address\u001b[39m\u001b[38;5;124m'\u001b[39m]\u001b[38;5;241m.\u001b[39mapply(get_location)\n",
      "\u001b[1;31mNameError\u001b[0m: name 'df' is not defined"
     ]
    }
   ],
   "source": [
    "TOKEN = \"4005eb2d1bd460\"\n",
    "\n",
    "def get_location(ip):\n",
    "    try:\n",
    "        response = requests.get(f\"https://ipinfo.io/{ip}?token={TOKEN}\", timeout=5)\n",
    "        if response.status_code == 200:\n",
    "            data = response.json()\n",
    "            city = data.get('city', '')\n",
    "            region = data.get('region', '')\n",
    "            country = data.get('country', '')\n",
    "            return f\"{city}, {region}, {country}\".strip(', ')\n",
    "        else:\n",
    "            return \"Unknown\"\n",
    "    except Exception as e:\n",
    "        print(f\"Error with IP {ip}: {e}\")\n",
    "        return \"Unknown\"\n",
    "    finally:\n",
    "        sleep(0.1)\n",
    "\n",
    "# Kiểm tra xem cột 'Source IP Address' có tồn tại không\n",
    "if 'Source IP Address' in df.columns:\n",
    "    # Tạo một cột mới 'Source Address' và thêm thông tin vị trí dựa trên IP\n",
    "    df['Source Address'] = df['Source IP Address'].apply(get_location)"
   ]
  },
  {
   "cell_type": "code",
   "execution_count": null,
   "metadata": {},
   "outputs": [],
   "source": [
    "df_cleaned = df.dropna(subset=['Source Address', 'Destination Address'])"
   ]
  },
  {
   "cell_type": "code",
   "execution_count": null,
   "metadata": {},
   "outputs": [],
   "source": [
    "def extract_country(address):\n",
    "    return address.split(\",\")[-1].strip()\n",
    "df['Source Country'] = df['Source Address'].apply(extract_country)\n",
    "df['Destination Country'] = df['Destination Address'].apply(extract_country)"
   ]
  },
  {
   "cell_type": "code",
   "execution_count": null,
   "metadata": {},
   "outputs": [],
   "source": [
    "df = df[df['Source Address'] != 'Unknown']\n",
    "df = df[df['Destination Address'] != 'Unknown']"
   ]
  },
  {
   "cell_type": "code",
   "execution_count": null,
   "metadata": {},
   "outputs": [],
   "source": [
    "df.to_csv('cyber_security_final1.csv', index=False)"
   ]
  }
 ],
 "metadata": {
  "kernelspec": {
   "display_name": "Python 3",
   "language": "python",
   "name": "python3"
  },
  "language_info": {
   "codemirror_mode": {
    "name": "ipython",
    "version": 3
   },
   "file_extension": ".py",
   "mimetype": "text/x-python",
   "name": "python",
   "nbconvert_exporter": "python",
   "pygments_lexer": "ipython3",
   "version": "3.11.9"
  }
 },
 "nbformat": 4,
 "nbformat_minor": 2
}
